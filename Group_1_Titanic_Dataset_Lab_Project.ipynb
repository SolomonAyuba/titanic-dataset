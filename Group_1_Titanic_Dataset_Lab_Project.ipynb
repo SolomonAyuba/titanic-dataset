{
  "nbformat": 4,
  "nbformat_minor": 0,
  "metadata": {
    "colab": {
      "provenance": [],
      "authorship_tag": "ABX9TyM/i81HgyEs7spm3Mm2zPnX",
      "include_colab_link": true
    },
    "kernelspec": {
      "name": "python3",
      "display_name": "Python 3"
    },
    "language_info": {
      "name": "python"
    }
  },
  "cells": [
    {
      "cell_type": "markdown",
      "metadata": {
        "id": "view-in-github",
        "colab_type": "text"
      },
      "source": [
        "<a href=\"https://colab.research.google.com/github/SolomonAyuba/titanic-dataset/blob/main/Group_1_Titanic_Dataset_Lab_Project.ipynb\" target=\"_parent\"><img src=\"https://colab.research.google.com/assets/colab-badge.svg\" alt=\"Open In Colab\"/></a>"
      ]
    },
    {
      "cell_type": "code",
      "execution_count": null,
      "metadata": {
        "id": "EyhUVDcAkfO4"
      },
      "outputs": [],
      "source": []
    },
    {
      "cell_type": "markdown",
      "source": [
        "# **Project Overview**\n",
        "\n",
        "> (Kindly refer to the [README](https://github.com/SolomonAyuba/titanic-dataset/blob/5017949d2733f29ad6a7f226a0b1e9417ea23358/README.md) file for a thorough documentation)\n",
        "\n",
        "\n",
        "## **Problem Statement**\n",
        "\n",
        "The Titanic dataset contains information about passengers aboard the Titanic and whether they survived or not. This project aims to apply data engineering techniques to pre-process the dataset and build a predictive model to determine whether a passenger survived based on various features.\n",
        "\n",
        "## **Objective and Steps**\n",
        "Perform comprehensive data engineering tasks such as data cleaning transformation, feature engineering, and preparing the dataset for predictive modeling.\n",
        "\n",
        "1. Perform **Exploratory Data Analysis (EDA)** to understand the dataset.\n",
        "2. Apply **data cleaning** techniques to handle missing values and outliers.\n",
        "3. **Transform** the data using scaling, encoding, and feature engineering.\n",
        "4. Prepare the dataset for **predictive modeling** by selecting relevant features.\n",
        "5. Train and evaluate a simple **classification model** to predict survival.\n",
        "\n",
        "\n",
        "\n"
      ],
      "metadata": {
        "id": "oJAJMiEukq2a"
      }
    },
    {
      "cell_type": "markdown",
      "source": [],
      "metadata": {
        "id": "CKn4fPitlVG5"
      }
    }
  ]
}